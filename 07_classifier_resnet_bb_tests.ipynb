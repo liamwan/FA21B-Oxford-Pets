{
 "cells": [
  {
   "cell_type": "code",
   "execution_count": 46,
   "metadata": {
    "collapsed": true,
    "ExecuteTime": {
     "end_time": "2023-05-10T08:56:30.075606Z",
     "start_time": "2023-05-10T08:56:30.072825Z"
    }
   },
   "outputs": [],
   "source": [
    "import os, torch, torch.nn as nn, torchvision, matplotlib.pyplot as plt\n",
    "from torch.utils.data import Dataset, DataLoader\n",
    "from tqdm.notebook import tqdm\n",
    "from sklearn.model_selection import train_test_split\n",
    "import PIL.Image as Image\n",
    "import re\n",
    "import numpy as np\n",
    "import torchvision.transforms.v2 as transforms\n",
    "from torchvision import datapoints\n",
    "from torchvision.models import ResNet50_Weights\n",
    "from torchvision.models import resnet50\n",
    "from torchvision.transforms.v2 import functional as F\n",
    "from torchvision.utils import draw_bounding_boxes\n",
    "\n",
    "\n",
    "train_folder = 'images/images/'"
   ]
  },
  {
   "cell_type": "code",
   "execution_count": 47,
   "outputs": [
    {
     "data": {
      "text/plain": "  0%|          | 0/3686 [00:00<?, ?it/s]",
      "application/vnd.jupyter.widget-view+json": {
       "version_major": 2,
       "version_minor": 0,
       "model_id": "923fb1a11a4440eda5688edf4d3a7553"
      }
     },
     "metadata": {},
     "output_type": "display_data"
    }
   ],
   "source": [
    "import xml.etree.ElementTree as ET\n",
    "import pandas as pd\n",
    "\n",
    "xmls_folder = 'annotations/annotations/xmls/'\n",
    "xmls_filenames=[]\n",
    "for filename in os.listdir(xmls_folder):\n",
    "    xmls_filenames.append(filename)\n",
    "\n",
    "# remove all files that are not xmls\n",
    "for filename in xmls_filenames:\n",
    "    if not filename.endswith('.xml'):\n",
    "        xmls_filenames.remove(filename)\n",
    "\n",
    "# read xmls and collect in dataframe\n",
    "df=pd.DataFrame(columns=['filename', 'width', 'height', 'class', 'xmin', 'ymin', 'xmax', 'ymax'])\n",
    "for filename in tqdm(xmls_filenames):\n",
    "    tree = ET.parse(xmls_folder+filename)\n",
    "    root = tree.getroot()\n",
    "    height = int(root.find(\"size\")[0].text)\n",
    "    width = int(root.find(\"size\")[1].text)\n",
    "    channels = int(root.find(\"size\")[2].text)\n",
    "    jpgname=root.find(\"filename\").text\n",
    "    for member in root.findall(\"object\"):\n",
    "        bndbox = member.find(\"bndbox\")\n",
    "        xmin = int(bndbox.find(\"xmin\").text)\n",
    "        ymin = int(bndbox.find(\"ymin\").text)\n",
    "        xmax = int(bndbox.find(\"xmax\").text)\n",
    "        ymax = int(bndbox.find(\"ymax\").text)\n",
    "        label = re.split('_', jpgname)\n",
    "        if len(label) == 2:\n",
    "            label = label[0]\n",
    "        else:\n",
    "            label = label[0]+\"_\"+label[1]\n",
    "        df.loc[len(df)] = [jpgname, width, height, label, xmin, ymin, xmax, ymax]\n",
    "# use column filename as index\n",
    "df.set_index('filename', inplace=True)"
   ],
   "metadata": {
    "collapsed": false,
    "ExecuteTime": {
     "end_time": "2023-05-10T08:56:33.342821Z",
     "start_time": "2023-05-10T08:56:30.396391Z"
    }
   }
  },
  {
   "cell_type": "code",
   "execution_count": 48,
   "outputs": [
    {
     "data": {
      "text/plain": "                            width  height               class  xmin  ymin  \\\nfilename                                                                    \nBritish_Shorthair_10.jpg      350     233   British_Shorthair    83    29   \ngerman_shorthaired_119.jpg    500     500  german_shorthaired   128    22   \nenglish_setter_158.jpg        500     333      english_setter    97    35   \nSiamese_178.jpg               400     500             Siamese    32    18   \npomeranian_162.jpg            300     222          pomeranian    19    32   \n...                           ...     ...                 ...   ...   ...   \nenglish_setter_155.jpg        390     500      english_setter   312    80   \nBirman_181.jpg                333     500              Birman   153    14   \nnewfoundland_112.jpg          500     489        newfoundland    50    75   \npomeranian_147.jpg            300     297          pomeranian    91    33   \nSiamese_175.jpg               375     500             Siamese   236     1   \n\n                            xmax  ymax  \nfilename                                \nBritish_Shorthair_10.jpg     197   142  \ngerman_shorthaired_119.jpg   240   222  \nenglish_setter_158.jpg       304   199  \nSiamese_178.jpg              363   369  \npomeranian_162.jpg           123   129  \n...                          ...   ...  \nenglish_setter_155.jpg       465   260  \nBirman_181.jpg               416   257  \nnewfoundland_112.jpg         410   440  \npomeranian_147.jpg           246   214  \nSiamese_175.jpg              455   240  \n\n[3687 rows x 7 columns]",
      "text/html": "<div>\n<style scoped>\n    .dataframe tbody tr th:only-of-type {\n        vertical-align: middle;\n    }\n\n    .dataframe tbody tr th {\n        vertical-align: top;\n    }\n\n    .dataframe thead th {\n        text-align: right;\n    }\n</style>\n<table border=\"1\" class=\"dataframe\">\n  <thead>\n    <tr style=\"text-align: right;\">\n      <th></th>\n      <th>width</th>\n      <th>height</th>\n      <th>class</th>\n      <th>xmin</th>\n      <th>ymin</th>\n      <th>xmax</th>\n      <th>ymax</th>\n    </tr>\n    <tr>\n      <th>filename</th>\n      <th></th>\n      <th></th>\n      <th></th>\n      <th></th>\n      <th></th>\n      <th></th>\n      <th></th>\n    </tr>\n  </thead>\n  <tbody>\n    <tr>\n      <th>British_Shorthair_10.jpg</th>\n      <td>350</td>\n      <td>233</td>\n      <td>British_Shorthair</td>\n      <td>83</td>\n      <td>29</td>\n      <td>197</td>\n      <td>142</td>\n    </tr>\n    <tr>\n      <th>german_shorthaired_119.jpg</th>\n      <td>500</td>\n      <td>500</td>\n      <td>german_shorthaired</td>\n      <td>128</td>\n      <td>22</td>\n      <td>240</td>\n      <td>222</td>\n    </tr>\n    <tr>\n      <th>english_setter_158.jpg</th>\n      <td>500</td>\n      <td>333</td>\n      <td>english_setter</td>\n      <td>97</td>\n      <td>35</td>\n      <td>304</td>\n      <td>199</td>\n    </tr>\n    <tr>\n      <th>Siamese_178.jpg</th>\n      <td>400</td>\n      <td>500</td>\n      <td>Siamese</td>\n      <td>32</td>\n      <td>18</td>\n      <td>363</td>\n      <td>369</td>\n    </tr>\n    <tr>\n      <th>pomeranian_162.jpg</th>\n      <td>300</td>\n      <td>222</td>\n      <td>pomeranian</td>\n      <td>19</td>\n      <td>32</td>\n      <td>123</td>\n      <td>129</td>\n    </tr>\n    <tr>\n      <th>...</th>\n      <td>...</td>\n      <td>...</td>\n      <td>...</td>\n      <td>...</td>\n      <td>...</td>\n      <td>...</td>\n      <td>...</td>\n    </tr>\n    <tr>\n      <th>english_setter_155.jpg</th>\n      <td>390</td>\n      <td>500</td>\n      <td>english_setter</td>\n      <td>312</td>\n      <td>80</td>\n      <td>465</td>\n      <td>260</td>\n    </tr>\n    <tr>\n      <th>Birman_181.jpg</th>\n      <td>333</td>\n      <td>500</td>\n      <td>Birman</td>\n      <td>153</td>\n      <td>14</td>\n      <td>416</td>\n      <td>257</td>\n    </tr>\n    <tr>\n      <th>newfoundland_112.jpg</th>\n      <td>500</td>\n      <td>489</td>\n      <td>newfoundland</td>\n      <td>50</td>\n      <td>75</td>\n      <td>410</td>\n      <td>440</td>\n    </tr>\n    <tr>\n      <th>pomeranian_147.jpg</th>\n      <td>300</td>\n      <td>297</td>\n      <td>pomeranian</td>\n      <td>91</td>\n      <td>33</td>\n      <td>246</td>\n      <td>214</td>\n    </tr>\n    <tr>\n      <th>Siamese_175.jpg</th>\n      <td>375</td>\n      <td>500</td>\n      <td>Siamese</td>\n      <td>236</td>\n      <td>1</td>\n      <td>455</td>\n      <td>240</td>\n    </tr>\n  </tbody>\n</table>\n<p>3687 rows × 7 columns</p>\n</div>"
     },
     "execution_count": 48,
     "metadata": {},
     "output_type": "execute_result"
    }
   ],
   "source": [
    "df"
   ],
   "metadata": {
    "collapsed": false,
    "ExecuteTime": {
     "end_time": "2023-05-10T08:56:33.344656Z",
     "start_time": "2023-05-10T08:56:33.342619Z"
    }
   }
  },
  {
   "cell_type": "markdown",
   "source": [
    "nicht jedes Bild ist annotiert, daher nur training mit den annotierten Bildern\n"
   ],
   "metadata": {
    "collapsed": false
   }
  },
  {
   "cell_type": "code",
   "execution_count": 91,
   "outputs": [],
   "source": [
    "def get_bbox_part(filename, part):\n",
    "    # convert to float\n",
    "    return df.loc[filename, part]\n",
    "\n",
    "# dict to convert label to label_idx\n",
    "classes=df['class'].unique()\n",
    "classes_idx={}\n",
    "for i, c in enumerate(classes):\n",
    "    classes_idx[c]=i\n",
    "\n",
    "def convert_tensor_to_image(tensor_image, bbox):\n",
    "    # convert tensor to image\n",
    "\n",
    "    # draw bounding box\n",
    "    image=draw_bounding_boxes(image, bbox)\n",
    "    return image\n"
   ],
   "metadata": {
    "collapsed": false,
    "ExecuteTime": {
     "end_time": "2023-05-10T09:11:07.967440Z",
     "start_time": "2023-05-10T09:11:07.965307Z"
    }
   }
  },
  {
   "cell_type": "code",
   "execution_count": 92,
   "outputs": [
    {
     "ename": "TypeError",
     "evalue": "Tensor expected, got <class 'PIL.Image.Image'>",
     "output_type": "error",
     "traceback": [
      "\u001B[0;31m---------------------------------------------------------------------------\u001B[0m",
      "\u001B[0;31mTypeError\u001B[0m                                 Traceback (most recent call last)",
      "Cell \u001B[0;32mIn[92], line 53\u001B[0m\n\u001B[1;32m     51\u001B[0m \u001B[38;5;28;01mfor\u001B[39;00m row \u001B[38;5;129;01min\u001B[39;00m \u001B[38;5;28mrange\u001B[39m(\u001B[38;5;241m2\u001B[39m):\n\u001B[1;32m     52\u001B[0m     \u001B[38;5;28;01mfor\u001B[39;00m col \u001B[38;5;129;01min\u001B[39;00m \u001B[38;5;28mrange\u001B[39m(\u001B[38;5;241m5\u001B[39m):\n\u001B[0;32m---> 53\u001B[0m         image\u001B[38;5;241m=\u001B[39m\u001B[43mconvert_tensor_to_image\u001B[49m\u001B[43m(\u001B[49m\u001B[43mxb\u001B[49m\u001B[43m[\u001B[49m\u001B[43mrow\u001B[49m\u001B[38;5;241;43m*\u001B[39;49m\u001B[38;5;241;43m5\u001B[39;49m\u001B[38;5;241;43m+\u001B[39;49m\u001B[43mcol\u001B[49m\u001B[43m]\u001B[49m\u001B[43m,\u001B[49m\u001B[43m \u001B[49m\u001B[43mbbox\u001B[49m\u001B[43m[\u001B[49m\u001B[43mrow\u001B[49m\u001B[38;5;241;43m*\u001B[39;49m\u001B[38;5;241;43m5\u001B[39;49m\u001B[38;5;241;43m+\u001B[39;49m\u001B[43mcol\u001B[49m\u001B[43m]\u001B[49m\u001B[43m)\u001B[49m\n\u001B[1;32m     54\u001B[0m         ax[row, col]\u001B[38;5;241m.\u001B[39mimshow(image\u001B[38;5;241m.\u001B[39mpermute(\u001B[38;5;241m1\u001B[39m, \u001B[38;5;241m2\u001B[39m, \u001B[38;5;241m0\u001B[39m))\n\u001B[1;32m     55\u001B[0m         ax[row, col]\u001B[38;5;241m.\u001B[39mset_title(classes[yb[row\u001B[38;5;241m*\u001B[39m\u001B[38;5;241m5\u001B[39m\u001B[38;5;241m+\u001B[39mcol]\u001B[38;5;241m.\u001B[39mitem()])\n",
      "Cell \u001B[0;32mIn[91], line 15\u001B[0m, in \u001B[0;36mconvert_tensor_to_image\u001B[0;34m(tensor_image, bbox)\u001B[0m\n\u001B[1;32m     13\u001B[0m image \u001B[38;5;241m=\u001B[39m transforms\u001B[38;5;241m.\u001B[39mToPILImage()(tensor_image)\n\u001B[1;32m     14\u001B[0m \u001B[38;5;66;03m# draw bounding box\u001B[39;00m\n\u001B[0;32m---> 15\u001B[0m image\u001B[38;5;241m=\u001B[39m\u001B[43mdraw_bounding_boxes\u001B[49m\u001B[43m(\u001B[49m\u001B[43mimage\u001B[49m\u001B[43m,\u001B[49m\u001B[43m \u001B[49m\u001B[43mbbox\u001B[49m\u001B[43m)\u001B[49m\n\u001B[1;32m     16\u001B[0m \u001B[38;5;28;01mreturn\u001B[39;00m image\n",
      "File \u001B[0;32m/opt/homebrew/Caskroom/miniconda/base/envs/torch_ds/lib/python3.10/site-packages/torch/utils/_contextlib.py:115\u001B[0m, in \u001B[0;36mcontext_decorator.<locals>.decorate_context\u001B[0;34m(*args, **kwargs)\u001B[0m\n\u001B[1;32m    112\u001B[0m \u001B[38;5;129m@functools\u001B[39m\u001B[38;5;241m.\u001B[39mwraps(func)\n\u001B[1;32m    113\u001B[0m \u001B[38;5;28;01mdef\u001B[39;00m \u001B[38;5;21mdecorate_context\u001B[39m(\u001B[38;5;241m*\u001B[39margs, \u001B[38;5;241m*\u001B[39m\u001B[38;5;241m*\u001B[39mkwargs):\n\u001B[1;32m    114\u001B[0m     \u001B[38;5;28;01mwith\u001B[39;00m ctx_factory():\n\u001B[0;32m--> 115\u001B[0m         \u001B[38;5;28;01mreturn\u001B[39;00m \u001B[43mfunc\u001B[49m\u001B[43m(\u001B[49m\u001B[38;5;241;43m*\u001B[39;49m\u001B[43margs\u001B[49m\u001B[43m,\u001B[49m\u001B[43m \u001B[49m\u001B[38;5;241;43m*\u001B[39;49m\u001B[38;5;241;43m*\u001B[39;49m\u001B[43mkwargs\u001B[49m\u001B[43m)\u001B[49m\n",
      "File \u001B[0;32m/opt/homebrew/Caskroom/miniconda/base/envs/torch_ds/lib/python3.10/site-packages/torchvision/utils.py:195\u001B[0m, in \u001B[0;36mdraw_bounding_boxes\u001B[0;34m(image, boxes, labels, colors, fill, width, font, font_size)\u001B[0m\n\u001B[1;32m    193\u001B[0m     _log_api_usage_once(draw_bounding_boxes)\n\u001B[1;32m    194\u001B[0m \u001B[38;5;28;01mif\u001B[39;00m \u001B[38;5;129;01mnot\u001B[39;00m \u001B[38;5;28misinstance\u001B[39m(image, torch\u001B[38;5;241m.\u001B[39mTensor):\n\u001B[0;32m--> 195\u001B[0m     \u001B[38;5;28;01mraise\u001B[39;00m \u001B[38;5;167;01mTypeError\u001B[39;00m(\u001B[38;5;124mf\u001B[39m\u001B[38;5;124m\"\u001B[39m\u001B[38;5;124mTensor expected, got \u001B[39m\u001B[38;5;132;01m{\u001B[39;00m\u001B[38;5;28mtype\u001B[39m(image)\u001B[38;5;132;01m}\u001B[39;00m\u001B[38;5;124m\"\u001B[39m)\n\u001B[1;32m    196\u001B[0m \u001B[38;5;28;01melif\u001B[39;00m image\u001B[38;5;241m.\u001B[39mdtype \u001B[38;5;241m!=\u001B[39m torch\u001B[38;5;241m.\u001B[39muint8:\n\u001B[1;32m    197\u001B[0m     \u001B[38;5;28;01mraise\u001B[39;00m \u001B[38;5;167;01mValueError\u001B[39;00m(\u001B[38;5;124mf\u001B[39m\u001B[38;5;124m\"\u001B[39m\u001B[38;5;124mTensor uint8 expected, got \u001B[39m\u001B[38;5;132;01m{\u001B[39;00mimage\u001B[38;5;241m.\u001B[39mdtype\u001B[38;5;132;01m}\u001B[39;00m\u001B[38;5;124m\"\u001B[39m)\n",
      "\u001B[0;31mTypeError\u001B[0m: Tensor expected, got <class 'PIL.Image.Image'>"
     ]
    },
    {
     "data": {
      "text/plain": "<Figure size 1000x500 with 10 Axes>",
      "image/png": "[encoded data removed]"
     },
     "metadata": {},
     "output_type": "display_data"
    }
   ],
   "source": [
    "class PetDataset(Dataset):\n",
    "    def __init__(self, filenames, labels, transform=None):\n",
    "        self.filenames = filenames\n",
    "        self.labels = labels\n",
    "        self.transform = transform\n",
    "\n",
    "    def __len__(self):\n",
    "        return len(self.filenames)\n",
    "\n",
    "    def __getitem__(self, idx):\n",
    "        fname=self.filenames[idx]\n",
    "        image = Image.open(train_folder+fname)\n",
    "        image = image.convert('RGB')\n",
    "        label = classes_idx[self.labels[idx]]\n",
    "        bbox=datapoints.BoundingBox([[get_bbox_part(fname, 'xmin'),\n",
    "                                    get_bbox_part(fname, 'ymin'),\n",
    "                                    get_bbox_part(self.filenames[idx], 'xmax'),\n",
    "                                    get_bbox_part(self.filenames[idx], 'ymax')]],\n",
    "                                    format=datapoints.BoundingBoxFormat.XYXY,\n",
    "                                    spatial_size=F.get_spatial_size(image))\n",
    "        if self.transform:\n",
    "            image, bbox = self.transform(image, bbox)\n",
    "        return image, label, bbox\n",
    "\n",
    "\n",
    "transform=transforms.Compose([\n",
    "    transforms.ToImageTensor(),\n",
    "    # to float\n",
    "    transforms.ConvertImageDtype(torch.float32),\n",
    "    transforms.Resize((300, 300), antialias=True),\n",
    "    # horizontal flip\n",
    "    transforms.RandomHorizontalFlip(p=0.5),\n",
    "    # jitter brightness, contrast and saturation\n",
    "    transforms.ColorJitter(brightness=0.2, contrast=0.2, saturation=0.2),\n",
    "    # randomly crop image\n",
    "    transforms.RandomCrop(224, pad_if_needed=True, padding_mode='reflect'),\n",
    "    # warp\n",
    "    transforms.RandomPerspective(distortion_scale=0.3, p=0.6),\n",
    "    transforms.Normalize(mean=[0.485, 0.456, 0.406],\n",
    "                         std=[0.229, 0.224, 0.225])\n",
    "])\n",
    "\n",
    "\n",
    "sample_dataset=PetDataset(df.iloc[:20].index, df.iloc[:20][\"class\"], transform=transform)\n",
    "sample_dataloader=DataLoader(sample_dataset, batch_size=10, shuffle=True)\n",
    "\n",
    "# visualize a batch of images using the dataloader\n",
    "fig, ax = plt.subplots(2, 5, figsize=(10, 5))\n",
    "index=0\n",
    "for xb, yb, bbox in sample_dataloader:\n",
    "    for row in range(2):\n",
    "        for col in range(5):\n",
    "            image=convert_tensor_to_image(xb[row*5+col], bbox[row*5+col])\n",
    "            ax[row, col].imshow(image.permute(1, 2, 0))\n",
    "            ax[row, col].set_title(classes[yb[row*5+col].item()])\n",
    "            ax[row, col].axis('off')"
   ],
   "metadata": {
    "collapsed": false,
    "ExecuteTime": {
     "end_time": "2023-05-10T09:11:09.006179Z",
     "start_time": "2023-05-10T09:11:08.584840Z"
    }
   }
  },
  {
   "cell_type": "code",
   "execution_count": null,
   "outputs": [],
   "source": [
    "%debug"
   ],
   "metadata": {
    "collapsed": false,
    "ExecuteTime": {
     "start_time": "2023-05-10T08:56:25.367427Z"
    }
   }
  },
  {
   "cell_type": "code",
   "execution_count": 45,
   "outputs": [],
   "source": [
    "X_train, X_test, y_train, y_test = train_test_split(filenames, labels, test_size=0.2, random_state=42, shuffle=True)"
   ],
   "metadata": {
    "collapsed": false,
    "ExecuteTime": {
     "end_time": "2023-05-10T08:56:25.543499Z",
     "start_time": "2023-05-10T08:56:25.532544Z"
    }
   }
  },
  {
   "cell_type": "code",
   "execution_count": 18,
   "outputs": [
    {
     "data": {
      "text/plain": "torch.Size([10, 37])"
     },
     "execution_count": 18,
     "metadata": {},
     "output_type": "execute_result"
    }
   ],
   "source": [
    "\n",
    "\n",
    "# use a pretrained resnte50\n",
    "\n",
    "class OxfordPetsModel(nn.Module):\n",
    "    def __init__(self, p=0.2):\n",
    "        super().__init__()\n",
    "        self.resnet50=resnet50(weights=ResNet50_Weights.DEFAULT)\n",
    "        self.resnet50.fc=nn.Sequential(\n",
    "            nn.BatchNorm1d(2048),\n",
    "            nn.ReLU(),\n",
    "            nn.Dropout(0.5),\n",
    "            nn.Linear(2048, 1000),\n",
    "            nn.BatchNorm1d(1000),\n",
    "            nn.ReLU(),\n",
    "            nn.Dropout(0.5),\n",
    "            nn.Linear(1000, 37)\n",
    "        )\n",
    "        for param in self.resnet50.parameters():\n",
    "            param.requires_grad = False\n",
    "\n",
    "        for param in self.resnet50.fc.parameters():\n",
    "            param.requires_grad = True\n",
    "\n",
    "\n",
    "    def forward(self, xb):\n",
    "        return self.resnet50(xb)\n",
    "\n",
    "model=OxfordPetsModel()\n",
    "model(xb).shape"
   ],
   "metadata": {
    "collapsed": false,
    "ExecuteTime": {
     "end_time": "2023-05-10T07:22:37.927974Z",
     "start_time": "2023-05-10T07:22:37.304181Z"
    }
   }
  },
  {
   "cell_type": "code",
   "execution_count": 19,
   "outputs": [
    {
     "name": "stdout",
     "output_type": "stream",
     "text": [
      "mps\n"
     ]
    }
   ],
   "source": [
    "if torch.cuda.is_available():\n",
    "    device = torch.device(\"cuda\")\n",
    "elif torch.backends.mps.is_available():\n",
    "    device = torch.device(\"mps\")\n",
    "else:\n",
    "    device = torch.device(\"cpu\")\n",
    "\n",
    "print(device)"
   ],
   "metadata": {
    "collapsed": false,
    "ExecuteTime": {
     "end_time": "2023-05-10T07:22:37.945272Z",
     "start_time": "2023-05-10T07:22:37.943657Z"
    }
   }
  },
  {
   "cell_type": "code",
   "execution_count": 20,
   "outputs": [],
   "source": [
    "def get_accuracy(model, loader):\n",
    "    correct=0\n",
    "    for xb, yb in loader:\n",
    "        xb=xb.to(device)\n",
    "        yb=yb.to(device)\n",
    "        y_hat=model(xb)\n",
    "        y_pred=torch.argmax(y_hat, dim=1)\n",
    "        correct+=(y_pred==yb).sum().item()\n",
    "    return correct/len(loader.dataset)"
   ],
   "metadata": {
    "collapsed": false,
    "ExecuteTime": {
     "end_time": "2023-05-10T07:22:37.955782Z",
     "start_time": "2023-05-10T07:22:37.947745Z"
    }
   }
  },
  {
   "cell_type": "code",
   "execution_count": 21,
   "outputs": [],
   "source": [
    "batch_size=128\n",
    "\n",
    "train_dataset=PetDataset(X_train, y_train, transform=transform)\n",
    "test_dataset=PetDataset(X_test, y_test, transform=transform)\n",
    "train_loader=DataLoader(train_dataset, batch_size=batch_size, shuffle=True)\n",
    "test_loader=DataLoader(test_dataset, batch_size=batch_size, shuffle=True)\n"
   ],
   "metadata": {
    "collapsed": false,
    "ExecuteTime": {
     "end_time": "2023-05-10T07:22:37.955973Z",
     "start_time": "2023-05-10T07:22:37.949982Z"
    }
   }
  },
  {
   "cell_type": "code",
   "execution_count": 22,
   "outputs": [],
   "source": [
    "lr=0.01\n",
    "\n",
    "loss_fn = nn.CrossEntropyLoss()\n",
    "\n",
    "def train_batch(model,optimizer,  xb, yb):\n",
    "    xb=xb.to(device)\n",
    "    yb=yb.to(device)\n",
    "    y_hat=model(xb)\n",
    "    loss = loss_fn(y_hat, yb)\n",
    "    optimizer.zero_grad()\n",
    "    loss.backward()\n",
    "    optimizer.step()\n",
    "    preds=torch.argmax(y_hat, dim=1)\n",
    "    return loss.item(), (preds==yb).sum().item()/len(yb)\n",
    "\n",
    "def train_epoch(model, optimizer,  x, y):\n",
    "    losses=[]\n",
    "    accs=[]\n",
    "    for xb, yb in train_loader:\n",
    "        loss, acc=train_batch(model, optimizer, xb, yb)\n",
    "        losses.append(loss)\n",
    "        accs.append(acc)\n",
    "    return losses, np.mean(accs), get_accuracy(model, test_loader)\n"
   ],
   "metadata": {
    "collapsed": false,
    "ExecuteTime": {
     "end_time": "2023-05-10T07:22:37.956093Z",
     "start_time": "2023-05-10T07:22:37.953959Z"
    }
   }
  },
  {
   "cell_type": "code",
   "execution_count": 23,
   "outputs": [
    {
     "data": {
      "text/plain": "  0%|          | 0/20 [00:00<?, ?it/s]",
      "application/vnd.jupyter.widget-view+json": {
       "version_major": 2,
       "version_minor": 0,
       "model_id": "6c7356d0351142e6b075382ec4145b73"
      }
     },
     "metadata": {},
     "output_type": "display_data"
    },
    {
     "ename": "KeyboardInterrupt",
     "evalue": "",
     "output_type": "error",
     "traceback": [
      "\u001B[0;31m---------------------------------------------------------------------------\u001B[0m",
      "\u001B[0;31mKeyboardInterrupt\u001B[0m                         Traceback (most recent call last)",
      "Cell \u001B[0;32mIn[23], line 10\u001B[0m\n\u001B[1;32m      8\u001B[0m bar\u001B[38;5;241m=\u001B[39mtqdm(\u001B[38;5;28mrange\u001B[39m(EPOCHS))\n\u001B[1;32m      9\u001B[0m \u001B[38;5;28;01mfor\u001B[39;00m i \u001B[38;5;129;01min\u001B[39;00m bar:\n\u001B[0;32m---> 10\u001B[0m     losses, train_acc, test_acc\u001B[38;5;241m=\u001B[39m\u001B[43mtrain_epoch\u001B[49m\u001B[43m(\u001B[49m\u001B[43mmodel\u001B[49m\u001B[43m,\u001B[49m\u001B[43m \u001B[49m\u001B[43moptimizer\u001B[49m\u001B[43m,\u001B[49m\u001B[43m \u001B[49m\u001B[43mX_train\u001B[49m\u001B[43m,\u001B[49m\u001B[43m \u001B[49m\u001B[43my_train\u001B[49m\u001B[43m)\u001B[49m\n\u001B[1;32m     11\u001B[0m     train_accs\u001B[38;5;241m.\u001B[39mappend(train_acc)\n\u001B[1;32m     12\u001B[0m     test_accs\u001B[38;5;241m.\u001B[39mappend(test_acc)\n",
      "Cell \u001B[0;32mIn[22], line 20\u001B[0m, in \u001B[0;36mtrain_epoch\u001B[0;34m(model, optimizer, x, y)\u001B[0m\n\u001B[1;32m     18\u001B[0m accs\u001B[38;5;241m=\u001B[39m[]\n\u001B[1;32m     19\u001B[0m \u001B[38;5;28;01mfor\u001B[39;00m xb, yb \u001B[38;5;129;01min\u001B[39;00m train_loader:\n\u001B[0;32m---> 20\u001B[0m     loss, acc\u001B[38;5;241m=\u001B[39m\u001B[43mtrain_batch\u001B[49m\u001B[43m(\u001B[49m\u001B[43mmodel\u001B[49m\u001B[43m,\u001B[49m\u001B[43m \u001B[49m\u001B[43moptimizer\u001B[49m\u001B[43m,\u001B[49m\u001B[43m \u001B[49m\u001B[43mxb\u001B[49m\u001B[43m,\u001B[49m\u001B[43m \u001B[49m\u001B[43myb\u001B[49m\u001B[43m)\u001B[49m\n\u001B[1;32m     21\u001B[0m     losses\u001B[38;5;241m.\u001B[39mappend(loss)\n\u001B[1;32m     22\u001B[0m     accs\u001B[38;5;241m.\u001B[39mappend(acc)\n",
      "Cell \u001B[0;32mIn[22], line 12\u001B[0m, in \u001B[0;36mtrain_batch\u001B[0;34m(model, optimizer, xb, yb)\u001B[0m\n\u001B[1;32m     10\u001B[0m optimizer\u001B[38;5;241m.\u001B[39mzero_grad()\n\u001B[1;32m     11\u001B[0m loss\u001B[38;5;241m.\u001B[39mbackward()\n\u001B[0;32m---> 12\u001B[0m \u001B[43moptimizer\u001B[49m\u001B[38;5;241;43m.\u001B[39;49m\u001B[43mstep\u001B[49m\u001B[43m(\u001B[49m\u001B[43m)\u001B[49m\n\u001B[1;32m     13\u001B[0m preds\u001B[38;5;241m=\u001B[39mtorch\u001B[38;5;241m.\u001B[39margmax(y_hat, dim\u001B[38;5;241m=\u001B[39m\u001B[38;5;241m1\u001B[39m)\n\u001B[1;32m     14\u001B[0m \u001B[38;5;28;01mreturn\u001B[39;00m loss\u001B[38;5;241m.\u001B[39mitem(), (preds\u001B[38;5;241m==\u001B[39myb)\u001B[38;5;241m.\u001B[39msum()\u001B[38;5;241m.\u001B[39mitem()\u001B[38;5;241m/\u001B[39m\u001B[38;5;28mlen\u001B[39m(yb)\n",
      "File \u001B[0;32m/opt/homebrew/Caskroom/miniconda/base/envs/torch_ds/lib/python3.10/site-packages/torch/optim/optimizer.py:280\u001B[0m, in \u001B[0;36mOptimizer.profile_hook_step.<locals>.wrapper\u001B[0;34m(*args, **kwargs)\u001B[0m\n\u001B[1;32m    276\u001B[0m         \u001B[38;5;28;01melse\u001B[39;00m:\n\u001B[1;32m    277\u001B[0m             \u001B[38;5;28;01mraise\u001B[39;00m \u001B[38;5;167;01mRuntimeError\u001B[39;00m(\u001B[38;5;124mf\u001B[39m\u001B[38;5;124m\"\u001B[39m\u001B[38;5;132;01m{\u001B[39;00mfunc\u001B[38;5;132;01m}\u001B[39;00m\u001B[38;5;124m must return None or a tuple of (new_args, new_kwargs),\u001B[39m\u001B[38;5;124m\"\u001B[39m\n\u001B[1;32m    278\u001B[0m                                \u001B[38;5;124mf\u001B[39m\u001B[38;5;124m\"\u001B[39m\u001B[38;5;124mbut got \u001B[39m\u001B[38;5;132;01m{\u001B[39;00mresult\u001B[38;5;132;01m}\u001B[39;00m\u001B[38;5;124m.\u001B[39m\u001B[38;5;124m\"\u001B[39m)\n\u001B[0;32m--> 280\u001B[0m out \u001B[38;5;241m=\u001B[39m \u001B[43mfunc\u001B[49m\u001B[43m(\u001B[49m\u001B[38;5;241;43m*\u001B[39;49m\u001B[43margs\u001B[49m\u001B[43m,\u001B[49m\u001B[43m \u001B[49m\u001B[38;5;241;43m*\u001B[39;49m\u001B[38;5;241;43m*\u001B[39;49m\u001B[43mkwargs\u001B[49m\u001B[43m)\u001B[49m\n\u001B[1;32m    281\u001B[0m \u001B[38;5;28mself\u001B[39m\u001B[38;5;241m.\u001B[39m_optimizer_step_code()\n\u001B[1;32m    283\u001B[0m \u001B[38;5;66;03m# call optimizer step post hooks\u001B[39;00m\n",
      "File \u001B[0;32m/opt/homebrew/Caskroom/miniconda/base/envs/torch_ds/lib/python3.10/site-packages/torch/optim/optimizer.py:33\u001B[0m, in \u001B[0;36m_use_grad_for_differentiable.<locals>._use_grad\u001B[0;34m(self, *args, **kwargs)\u001B[0m\n\u001B[1;32m     31\u001B[0m \u001B[38;5;28;01mtry\u001B[39;00m:\n\u001B[1;32m     32\u001B[0m     torch\u001B[38;5;241m.\u001B[39mset_grad_enabled(\u001B[38;5;28mself\u001B[39m\u001B[38;5;241m.\u001B[39mdefaults[\u001B[38;5;124m'\u001B[39m\u001B[38;5;124mdifferentiable\u001B[39m\u001B[38;5;124m'\u001B[39m])\n\u001B[0;32m---> 33\u001B[0m     ret \u001B[38;5;241m=\u001B[39m \u001B[43mfunc\u001B[49m\u001B[43m(\u001B[49m\u001B[38;5;28;43mself\u001B[39;49m\u001B[43m,\u001B[49m\u001B[43m \u001B[49m\u001B[38;5;241;43m*\u001B[39;49m\u001B[43margs\u001B[49m\u001B[43m,\u001B[49m\u001B[43m \u001B[49m\u001B[38;5;241;43m*\u001B[39;49m\u001B[38;5;241;43m*\u001B[39;49m\u001B[43mkwargs\u001B[49m\u001B[43m)\u001B[49m\n\u001B[1;32m     34\u001B[0m \u001B[38;5;28;01mfinally\u001B[39;00m:\n\u001B[1;32m     35\u001B[0m     torch\u001B[38;5;241m.\u001B[39mset_grad_enabled(prev_grad)\n",
      "File \u001B[0;32m/opt/homebrew/Caskroom/miniconda/base/envs/torch_ds/lib/python3.10/site-packages/torch/optim/adam.py:143\u001B[0m, in \u001B[0;36mAdam.step\u001B[0;34m(self, closure)\u001B[0m\n\u001B[1;32m    132\u001B[0m     beta1, beta2 \u001B[38;5;241m=\u001B[39m group[\u001B[38;5;124m'\u001B[39m\u001B[38;5;124mbetas\u001B[39m\u001B[38;5;124m'\u001B[39m]\n\u001B[1;32m    134\u001B[0m     \u001B[38;5;28mself\u001B[39m\u001B[38;5;241m.\u001B[39m_init_group(\n\u001B[1;32m    135\u001B[0m         group,\n\u001B[1;32m    136\u001B[0m         params_with_grad,\n\u001B[0;32m   (...)\u001B[0m\n\u001B[1;32m    140\u001B[0m         max_exp_avg_sqs,\n\u001B[1;32m    141\u001B[0m         state_steps)\n\u001B[0;32m--> 143\u001B[0m     \u001B[43madam\u001B[49m\u001B[43m(\u001B[49m\n\u001B[1;32m    144\u001B[0m \u001B[43m        \u001B[49m\u001B[43mparams_with_grad\u001B[49m\u001B[43m,\u001B[49m\n\u001B[1;32m    145\u001B[0m \u001B[43m        \u001B[49m\u001B[43mgrads\u001B[49m\u001B[43m,\u001B[49m\n\u001B[1;32m    146\u001B[0m \u001B[43m        \u001B[49m\u001B[43mexp_avgs\u001B[49m\u001B[43m,\u001B[49m\n\u001B[1;32m    147\u001B[0m \u001B[43m        \u001B[49m\u001B[43mexp_avg_sqs\u001B[49m\u001B[43m,\u001B[49m\n\u001B[1;32m    148\u001B[0m \u001B[43m        \u001B[49m\u001B[43mmax_exp_avg_sqs\u001B[49m\u001B[43m,\u001B[49m\n\u001B[1;32m    149\u001B[0m \u001B[43m        \u001B[49m\u001B[43mstate_steps\u001B[49m\u001B[43m,\u001B[49m\n\u001B[1;32m    150\u001B[0m \u001B[43m        \u001B[49m\u001B[43mamsgrad\u001B[49m\u001B[38;5;241;43m=\u001B[39;49m\u001B[43mgroup\u001B[49m\u001B[43m[\u001B[49m\u001B[38;5;124;43m'\u001B[39;49m\u001B[38;5;124;43mamsgrad\u001B[39;49m\u001B[38;5;124;43m'\u001B[39;49m\u001B[43m]\u001B[49m\u001B[43m,\u001B[49m\n\u001B[1;32m    151\u001B[0m \u001B[43m        \u001B[49m\u001B[43mbeta1\u001B[49m\u001B[38;5;241;43m=\u001B[39;49m\u001B[43mbeta1\u001B[49m\u001B[43m,\u001B[49m\n\u001B[1;32m    152\u001B[0m \u001B[43m        \u001B[49m\u001B[43mbeta2\u001B[49m\u001B[38;5;241;43m=\u001B[39;49m\u001B[43mbeta2\u001B[49m\u001B[43m,\u001B[49m\n\u001B[1;32m    153\u001B[0m \u001B[43m        \u001B[49m\u001B[43mlr\u001B[49m\u001B[38;5;241;43m=\u001B[39;49m\u001B[43mgroup\u001B[49m\u001B[43m[\u001B[49m\u001B[38;5;124;43m'\u001B[39;49m\u001B[38;5;124;43mlr\u001B[39;49m\u001B[38;5;124;43m'\u001B[39;49m\u001B[43m]\u001B[49m\u001B[43m,\u001B[49m\n\u001B[1;32m    154\u001B[0m \u001B[43m        \u001B[49m\u001B[43mweight_decay\u001B[49m\u001B[38;5;241;43m=\u001B[39;49m\u001B[43mgroup\u001B[49m\u001B[43m[\u001B[49m\u001B[38;5;124;43m'\u001B[39;49m\u001B[38;5;124;43mweight_decay\u001B[39;49m\u001B[38;5;124;43m'\u001B[39;49m\u001B[43m]\u001B[49m\u001B[43m,\u001B[49m\n\u001B[1;32m    155\u001B[0m \u001B[43m        \u001B[49m\u001B[43meps\u001B[49m\u001B[38;5;241;43m=\u001B[39;49m\u001B[43mgroup\u001B[49m\u001B[43m[\u001B[49m\u001B[38;5;124;43m'\u001B[39;49m\u001B[38;5;124;43meps\u001B[39;49m\u001B[38;5;124;43m'\u001B[39;49m\u001B[43m]\u001B[49m\u001B[43m,\u001B[49m\n\u001B[1;32m    156\u001B[0m \u001B[43m        \u001B[49m\u001B[43mmaximize\u001B[49m\u001B[38;5;241;43m=\u001B[39;49m\u001B[43mgroup\u001B[49m\u001B[43m[\u001B[49m\u001B[38;5;124;43m'\u001B[39;49m\u001B[38;5;124;43mmaximize\u001B[39;49m\u001B[38;5;124;43m'\u001B[39;49m\u001B[43m]\u001B[49m\u001B[43m,\u001B[49m\n\u001B[1;32m    157\u001B[0m \u001B[43m        \u001B[49m\u001B[43mforeach\u001B[49m\u001B[38;5;241;43m=\u001B[39;49m\u001B[43mgroup\u001B[49m\u001B[43m[\u001B[49m\u001B[38;5;124;43m'\u001B[39;49m\u001B[38;5;124;43mforeach\u001B[39;49m\u001B[38;5;124;43m'\u001B[39;49m\u001B[43m]\u001B[49m\u001B[43m,\u001B[49m\n\u001B[1;32m    158\u001B[0m \u001B[43m        \u001B[49m\u001B[43mcapturable\u001B[49m\u001B[38;5;241;43m=\u001B[39;49m\u001B[43mgroup\u001B[49m\u001B[43m[\u001B[49m\u001B[38;5;124;43m'\u001B[39;49m\u001B[38;5;124;43mcapturable\u001B[39;49m\u001B[38;5;124;43m'\u001B[39;49m\u001B[43m]\u001B[49m\u001B[43m,\u001B[49m\n\u001B[1;32m    159\u001B[0m \u001B[43m        \u001B[49m\u001B[43mdifferentiable\u001B[49m\u001B[38;5;241;43m=\u001B[39;49m\u001B[43mgroup\u001B[49m\u001B[43m[\u001B[49m\u001B[38;5;124;43m'\u001B[39;49m\u001B[38;5;124;43mdifferentiable\u001B[39;49m\u001B[38;5;124;43m'\u001B[39;49m\u001B[43m]\u001B[49m\u001B[43m,\u001B[49m\n\u001B[1;32m    160\u001B[0m \u001B[43m        \u001B[49m\u001B[43mfused\u001B[49m\u001B[38;5;241;43m=\u001B[39;49m\u001B[43mgroup\u001B[49m\u001B[43m[\u001B[49m\u001B[38;5;124;43m'\u001B[39;49m\u001B[38;5;124;43mfused\u001B[39;49m\u001B[38;5;124;43m'\u001B[39;49m\u001B[43m]\u001B[49m\u001B[43m,\u001B[49m\n\u001B[1;32m    161\u001B[0m \u001B[43m        \u001B[49m\u001B[43mgrad_scale\u001B[49m\u001B[38;5;241;43m=\u001B[39;49m\u001B[38;5;28;43mgetattr\u001B[39;49m\u001B[43m(\u001B[49m\u001B[38;5;28;43mself\u001B[39;49m\u001B[43m,\u001B[49m\u001B[43m \u001B[49m\u001B[38;5;124;43m\"\u001B[39;49m\u001B[38;5;124;43mgrad_scale\u001B[39;49m\u001B[38;5;124;43m\"\u001B[39;49m\u001B[43m,\u001B[49m\u001B[43m \u001B[49m\u001B[38;5;28;43;01mNone\u001B[39;49;00m\u001B[43m)\u001B[49m\u001B[43m,\u001B[49m\n\u001B[1;32m    162\u001B[0m \u001B[43m        \u001B[49m\u001B[43mfound_inf\u001B[49m\u001B[38;5;241;43m=\u001B[39;49m\u001B[38;5;28;43mgetattr\u001B[39;49m\u001B[43m(\u001B[49m\u001B[38;5;28;43mself\u001B[39;49m\u001B[43m,\u001B[49m\u001B[43m \u001B[49m\u001B[38;5;124;43m\"\u001B[39;49m\u001B[38;5;124;43mfound_inf\u001B[39;49m\u001B[38;5;124;43m\"\u001B[39;49m\u001B[43m,\u001B[49m\u001B[43m \u001B[49m\u001B[38;5;28;43;01mNone\u001B[39;49;00m\u001B[43m)\u001B[49m\u001B[43m,\u001B[49m\n\u001B[1;32m    163\u001B[0m \u001B[43m    \u001B[49m\u001B[43m)\u001B[49m\n\u001B[1;32m    165\u001B[0m \u001B[38;5;28;01mreturn\u001B[39;00m loss\n",
      "File \u001B[0;32m/opt/homebrew/Caskroom/miniconda/base/envs/torch_ds/lib/python3.10/site-packages/torch/optim/adam.py:283\u001B[0m, in \u001B[0;36madam\u001B[0;34m(params, grads, exp_avgs, exp_avg_sqs, max_exp_avg_sqs, state_steps, foreach, capturable, differentiable, fused, grad_scale, found_inf, amsgrad, beta1, beta2, lr, weight_decay, eps, maximize)\u001B[0m\n\u001B[1;32m    280\u001B[0m \u001B[38;5;28;01melse\u001B[39;00m:\n\u001B[1;32m    281\u001B[0m     func \u001B[38;5;241m=\u001B[39m _single_tensor_adam\n\u001B[0;32m--> 283\u001B[0m \u001B[43mfunc\u001B[49m\u001B[43m(\u001B[49m\u001B[43mparams\u001B[49m\u001B[43m,\u001B[49m\n\u001B[1;32m    284\u001B[0m \u001B[43m     \u001B[49m\u001B[43mgrads\u001B[49m\u001B[43m,\u001B[49m\n\u001B[1;32m    285\u001B[0m \u001B[43m     \u001B[49m\u001B[43mexp_avgs\u001B[49m\u001B[43m,\u001B[49m\n\u001B[1;32m    286\u001B[0m \u001B[43m     \u001B[49m\u001B[43mexp_avg_sqs\u001B[49m\u001B[43m,\u001B[49m\n\u001B[1;32m    287\u001B[0m \u001B[43m     \u001B[49m\u001B[43mmax_exp_avg_sqs\u001B[49m\u001B[43m,\u001B[49m\n\u001B[1;32m    288\u001B[0m \u001B[43m     \u001B[49m\u001B[43mstate_steps\u001B[49m\u001B[43m,\u001B[49m\n\u001B[1;32m    289\u001B[0m \u001B[43m     \u001B[49m\u001B[43mamsgrad\u001B[49m\u001B[38;5;241;43m=\u001B[39;49m\u001B[43mamsgrad\u001B[49m\u001B[43m,\u001B[49m\n\u001B[1;32m    290\u001B[0m \u001B[43m     \u001B[49m\u001B[43mbeta1\u001B[49m\u001B[38;5;241;43m=\u001B[39;49m\u001B[43mbeta1\u001B[49m\u001B[43m,\u001B[49m\n\u001B[1;32m    291\u001B[0m \u001B[43m     \u001B[49m\u001B[43mbeta2\u001B[49m\u001B[38;5;241;43m=\u001B[39;49m\u001B[43mbeta2\u001B[49m\u001B[43m,\u001B[49m\n\u001B[1;32m    292\u001B[0m \u001B[43m     \u001B[49m\u001B[43mlr\u001B[49m\u001B[38;5;241;43m=\u001B[39;49m\u001B[43mlr\u001B[49m\u001B[43m,\u001B[49m\n\u001B[1;32m    293\u001B[0m \u001B[43m     \u001B[49m\u001B[43mweight_decay\u001B[49m\u001B[38;5;241;43m=\u001B[39;49m\u001B[43mweight_decay\u001B[49m\u001B[43m,\u001B[49m\n\u001B[1;32m    294\u001B[0m \u001B[43m     \u001B[49m\u001B[43meps\u001B[49m\u001B[38;5;241;43m=\u001B[39;49m\u001B[43meps\u001B[49m\u001B[43m,\u001B[49m\n\u001B[1;32m    295\u001B[0m \u001B[43m     \u001B[49m\u001B[43mmaximize\u001B[49m\u001B[38;5;241;43m=\u001B[39;49m\u001B[43mmaximize\u001B[49m\u001B[43m,\u001B[49m\n\u001B[1;32m    296\u001B[0m \u001B[43m     \u001B[49m\u001B[43mcapturable\u001B[49m\u001B[38;5;241;43m=\u001B[39;49m\u001B[43mcapturable\u001B[49m\u001B[43m,\u001B[49m\n\u001B[1;32m    297\u001B[0m \u001B[43m     \u001B[49m\u001B[43mdifferentiable\u001B[49m\u001B[38;5;241;43m=\u001B[39;49m\u001B[43mdifferentiable\u001B[49m\u001B[43m,\u001B[49m\n\u001B[1;32m    298\u001B[0m \u001B[43m     \u001B[49m\u001B[43mgrad_scale\u001B[49m\u001B[38;5;241;43m=\u001B[39;49m\u001B[43mgrad_scale\u001B[49m\u001B[43m,\u001B[49m\n\u001B[1;32m    299\u001B[0m \u001B[43m     \u001B[49m\u001B[43mfound_inf\u001B[49m\u001B[38;5;241;43m=\u001B[39;49m\u001B[43mfound_inf\u001B[49m\u001B[43m)\u001B[49m\n",
      "File \u001B[0;32m/opt/homebrew/Caskroom/miniconda/base/envs/torch_ds/lib/python3.10/site-packages/torch/optim/adam.py:395\u001B[0m, in \u001B[0;36m_single_tensor_adam\u001B[0;34m(params, grads, exp_avgs, exp_avg_sqs, max_exp_avg_sqs, state_steps, grad_scale, found_inf, amsgrad, beta1, beta2, lr, weight_decay, eps, maximize, capturable, differentiable)\u001B[0m\n\u001B[1;32m    392\u001B[0m \u001B[38;5;28;01melse\u001B[39;00m:\n\u001B[1;32m    393\u001B[0m     denom \u001B[38;5;241m=\u001B[39m (exp_avg_sq\u001B[38;5;241m.\u001B[39msqrt() \u001B[38;5;241m/\u001B[39m bias_correction2_sqrt)\u001B[38;5;241m.\u001B[39madd_(eps)\n\u001B[0;32m--> 395\u001B[0m \u001B[43mparam\u001B[49m\u001B[38;5;241;43m.\u001B[39;49m\u001B[43maddcdiv_\u001B[49m\u001B[43m(\u001B[49m\u001B[43mexp_avg\u001B[49m\u001B[43m,\u001B[49m\u001B[43m \u001B[49m\u001B[43mdenom\u001B[49m\u001B[43m,\u001B[49m\u001B[43m \u001B[49m\u001B[43mvalue\u001B[49m\u001B[38;5;241;43m=\u001B[39;49m\u001B[38;5;241;43m-\u001B[39;49m\u001B[43mstep_size\u001B[49m\u001B[43m)\u001B[49m\n",
      "\u001B[0;31mKeyboardInterrupt\u001B[0m: "
     ]
    }
   ],
   "source": [
    "model = OxfordPetsModel().to(device)\n",
    "optimizer=torch.optim.Adam(model.parameters(), lr=lr)\n",
    "\n",
    "EPOCHS=20\n",
    "train_accs=[]\n",
    "test_accs=[]\n",
    "# define tqdm bar\n",
    "bar=tqdm(range(EPOCHS))\n",
    "for i in bar:\n",
    "    losses, train_acc, test_acc=train_epoch(model, optimizer, X_train, y_train)\n",
    "    train_accs.append(train_acc)\n",
    "    test_accs.append(test_acc)\n",
    "    bar.set_description(f\"Train Accuracy: {train_acc:.3f}, Test Accuracy: {test_acc:.3f}\")\n",
    "plt.plot(train_accs, label='train')\n",
    "plt.plot(test_accs, label='test')\n",
    "plt.legend()\n",
    "plt.show()"
   ],
   "metadata": {
    "collapsed": false,
    "ExecuteTime": {
     "end_time": "2023-05-10T07:26:03.699415Z",
     "start_time": "2023-05-10T07:22:37.957123Z"
    }
   }
  },
  {
   "cell_type": "code",
   "execution_count": null,
   "outputs": [],
   "source": [
    "bar=tqdm(range(EPOCHS))\n",
    "for i in bar:\n",
    "    losses, train_acc, test_acc=train_epoch(model, optimizer, X_train, y_train)\n",
    "    train_accs.append(train_acc)\n",
    "    test_accs.append(test_acc)\n",
    "    bar.set_description(f\"Train Accuracy: {train_acc:.3f}, Test Accuracy: {test_acc:.3f}\")\n",
    "plt.plot(train_accs, label='train')\n",
    "plt.plot(test_accs, label='test')\n",
    "plt.legend()\n",
    "plt.show()"
   ],
   "metadata": {
    "collapsed": false
   }
  },
  {
   "cell_type": "code",
   "execution_count": null,
   "outputs": [],
   "source": [],
   "metadata": {
    "collapsed": false
   }
  }
 ],
 "metadata": {
  "kernelspec": {
   "display_name": "Python 3",
   "language": "python",
   "name": "python3"
  },
  "language_info": {
   "codemirror_mode": {
    "name": "ipython",
    "version": 2
   },
   "file_extension": ".py",
   "mimetype": "text/x-python",
   "name": "python",
   "nbconvert_exporter": "python",
   "pygments_lexer": "ipython2",
   "version": "2.7.6"
  }
 },
 "nbformat": 4,
 "nbformat_minor": 0
}
